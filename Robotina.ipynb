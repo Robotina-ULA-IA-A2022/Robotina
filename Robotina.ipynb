{
 "cells": [
  {
   "cell_type": "markdown",
   "metadata": {
    "id": "BvD3LYR2oi7_"
   },
   "source": [
    "# Robotina"
   ]
  },
  {
   "cell_type": "markdown",
   "metadata": {},
   "source": [
    "Robotina es un agente que se encarga de aprender los patrones de vida de los habitantes de un hogar y en base a dichos patrones gestionar las comodidades para darles una experiencia de vida  agradable, ayudarlos a optimizar su consumo de energía y darles mayor seguridad!"
   ]
  },
  {
   "cell_type": "markdown",
   "metadata": {},
   "source": [
    "## Ejecución"
   ]
  },
  {
   "cell_type": "markdown",
   "metadata": {},
   "source": [
    "Instalamos el framework de agente 'MESA'"
   ]
  },
  {
   "cell_type": "code",
   "execution_count": 13,
   "metadata": {
    "colab": {
     "base_uri": "https://localhost:8080/"
    },
    "executionInfo": {
     "elapsed": 6721,
     "status": "ok",
     "timestamp": 1642411851196,
     "user": {
      "displayName": "Jose Aguilar",
      "photoUrl": "https://lh3.googleusercontent.com/a-/AOh14GgW1as_LkCFSPJWaiMYxit2uOBPtm4uYWs_GSnJ4A=s64",
      "userId": "08647823614068425826"
     },
     "user_tz": 240
    },
    "id": "0o9RNCSRXP31",
    "outputId": "cc6f338d-c112-4aaa-bbb7-5e24aea0ed4b"
   },
   "outputs": [
    {
     "name": "stdout",
     "output_type": "stream",
     "text": [
      "Note: you may need to restart the kernel to use updated packages.\n"
     ]
    }
   ],
   "source": [
    "pip install mesa --quiet"
   ]
  },
  {
   "cell_type": "markdown",
   "metadata": {
    "id": "XXXc9HeMoi8B"
   },
   "source": [
    "Para el agente Robotina usaremos el framework 'MESA'"
   ]
  },
  {
   "cell_type": "code",
   "execution_count": 14,
   "metadata": {
    "id": "w6vEl6ZUoi8D"
   },
   "outputs": [],
   "source": [
    "from mesa import Agent,Model"
   ]
  },
  {
   "cell_type": "markdown",
   "metadata": {
    "id": "aFm2LTu2oi8E"
   },
   "source": [
    "Creacion de clase agente que dirá su razón de existir"
   ]
  },
  {
   "cell_type": "code",
   "execution_count": 15,
   "metadata": {
    "id": "jpNG2x6foi8G"
   },
   "outputs": [],
   "source": [
    "class AgentRobotina(Agent):\n",
    "    def __init__(self):\n",
    "        print('Hola, mi nombre es Robotina, existo para dar mayor comodidad a los usuarios de los hogares que manejo :)')"
   ]
  },
  {
   "cell_type": "markdown",
   "metadata": {},
   "source": [
    "Creación de clase modelo "
   ]
  },
  {
   "cell_type": "code",
   "execution_count": 16,
   "metadata": {},
   "outputs": [],
   "source": [
    "class ModelRobotina(Model):\n",
    "    def __init__(self):\n",
    "        agent = AgentRobotina()"
   ]
  },
  {
   "cell_type": "markdown",
   "metadata": {
    "id": "kNnjBHGqoi8H"
   },
   "source": [
    "Ejecucion del modelo y el agente"
   ]
  },
  {
   "cell_type": "code",
   "execution_count": 17,
   "metadata": {
    "colab": {
     "base_uri": "https://localhost:8080/"
    },
    "executionInfo": {
     "elapsed": 248,
     "status": "ok",
     "timestamp": 1642411865346,
     "user": {
      "displayName": "Jose Aguilar",
      "photoUrl": "https://lh3.googleusercontent.com/a-/AOh14GgW1as_LkCFSPJWaiMYxit2uOBPtm4uYWs_GSnJ4A=s64",
      "userId": "08647823614068425826"
     },
     "user_tz": 240
    },
    "id": "GPvCyD4Koi8I",
    "outputId": "adf2b8c6-ac46-48e5-cd40-936e14b268a8"
   },
   "outputs": [
    {
     "name": "stdout",
     "output_type": "stream",
     "text": [
      "Hola, mi nombre es Robotina, existo para dar mayor comodidad a los usuarios de los hogares que manejo :)\n"
     ]
    }
   ],
   "source": [
    "agent = ModelRobotina()"
   ]
  }
 ],
 "metadata": {
  "colab": {
   "name": "HolaMundo.ipynb",
   "provenance": []
  },
  "kernelspec": {
   "display_name": "Python 3 (ipykernel)",
   "language": "python",
   "name": "python3"
  },
  "language_info": {
   "codemirror_mode": {
    "name": "ipython",
    "version": 3
   },
   "file_extension": ".py",
   "mimetype": "text/x-python",
   "name": "python",
   "nbconvert_exporter": "python",
   "pygments_lexer": "ipython3",
   "version": "3.10.2"
  }
 },
 "nbformat": 4,
 "nbformat_minor": 1
}
